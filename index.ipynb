{
 "cells": [
  {
   "cell_type": "code",
   "execution_count": 1,
   "metadata": {},
   "outputs": [],
   "source": [
    "import pylidc as pl"
   ]
  },
  {
   "cell_type": "code",
   "execution_count": 2,
   "metadata": {},
   "outputs": [
    {
     "name": "stdout",
     "output_type": "stream",
     "text": [
      "31\n"
     ]
    }
   ],
   "source": [
    "# Query for all CT scans with desired traits.\n",
    "scans = pl.query(pl.Scan).filter(pl.Scan.slice_thickness <= 1,\n",
    "                                 pl.Scan.pixel_spacing <= 0.6)\n",
    "print(scans.count())\n",
    "# => 31\n",
    "\n",
    "pid = 'LIDC-IDRI-0078'\n",
    "scan = pl.query(pl.Scan).filter(pl.Scan.patient_id == pid).first()"
   ]
  },
  {
   "cell_type": "code",
   "execution_count": 3,
   "metadata": {},
   "outputs": [
    {
     "name": "stdout",
     "output_type": "stream",
     "text": [
      "13\n"
     ]
    }
   ],
   "source": [
    "print(len(scan.annotations))\n"
   ]
  },
  {
   "cell_type": "code",
   "execution_count": 4,
   "metadata": {},
   "outputs": [
    {
     "name": "stdout",
     "output_type": "stream",
     "text": [
      "Scan(id=1,patient_id=LIDC-IDRI-0078) has 4 nodules.\n",
      "Nodule 1 has 4 annotations.\n",
      "Nodule 2 has 4 annotations.\n",
      "Nodule 3 has 1 annotations.\n",
      "Nodule 4 has 4 annotations.\n"
     ]
    }
   ],
   "source": [
    "nods = scan.cluster_annotations()\n",
    "\n",
    "print(\"%s has %d nodules.\" % (scan, len(nods)))\n",
    "# => Scan(id=1,patient_id=LIDC-IDRI-0078) has 4 nodules.\n",
    "\n",
    "for i,nod in enumerate(nods):\n",
    "    print(\"Nodule %d has %d annotations.\" % (i+1, len(nods[i])))\n"
   ]
  },
  {
   "cell_type": "code",
   "execution_count": 5,
   "metadata": {},
   "outputs": [
    {
     "name": "stdout",
     "output_type": "stream",
     "text": [
      "Loading dicom files ... This may take a moment.\n"
     ]
    },
    {
     "name": "stderr",
     "output_type": "stream",
     "text": [
      "/home/aji/.local/lib/python3.8/site-packages/pylidc/Scan.py:67: UserWarning: Could not find `dicom` configuration section or  `path` configuration option under that section.A template config file will be written to /home/aji/.pylidcrc.\n",
      "  warnings.warn(msg.format(conf_file))\n"
     ]
    },
    {
     "ename": "RuntimeError",
     "evalue": "Could not establish path to dicom files. Have you specified the `path` option in the configuration file /home/aji/.pylidcrc?",
     "output_type": "error",
     "traceback": [
      "\u001b[0;31m---------------------------------------------------------------------------\u001b[0m",
      "\u001b[0;31mRuntimeError\u001b[0m                              Traceback (most recent call last)",
      "\u001b[1;32m/home/aji/Kuliah/PCD/index.ipynb Cell 5\u001b[0m in \u001b[0;36m<cell line: 1>\u001b[0;34m()\u001b[0m\n\u001b[0;32m----> <a href='vscode-notebook-cell:/home/aji/Kuliah/PCD/index.ipynb#W5sZmlsZQ%3D%3D?line=0'>1</a>\u001b[0m vol \u001b[39m=\u001b[39m scan\u001b[39m.\u001b[39;49mto_volume()\n\u001b[1;32m      <a href='vscode-notebook-cell:/home/aji/Kuliah/PCD/index.ipynb#W5sZmlsZQ%3D%3D?line=1'>2</a>\u001b[0m \u001b[39mprint\u001b[39m(vol\u001b[39m.\u001b[39mshape)\n",
      "File \u001b[0;32m~/.local/lib/python3.8/site-packages/pylidc/Scan.py:642\u001b[0m, in \u001b[0;36mScan.to_volume\u001b[0;34m(self, verbose)\u001b[0m\n\u001b[1;32m    638\u001b[0m \u001b[39mdef\u001b[39;00m \u001b[39mto_volume\u001b[39m(\u001b[39mself\u001b[39m, verbose\u001b[39m=\u001b[39m\u001b[39mTrue\u001b[39;00m):\n\u001b[1;32m    639\u001b[0m     \u001b[39m\"\"\"\u001b[39;00m\n\u001b[1;32m    640\u001b[0m \u001b[39m    Return the scan as a 3D numpy array volume.\u001b[39;00m\n\u001b[1;32m    641\u001b[0m \u001b[39m    \"\"\"\u001b[39;00m\n\u001b[0;32m--> 642\u001b[0m     images \u001b[39m=\u001b[39m \u001b[39mself\u001b[39;49m\u001b[39m.\u001b[39;49mload_all_dicom_images(verbose\u001b[39m=\u001b[39;49mverbose)\n\u001b[1;32m    644\u001b[0m     volume \u001b[39m=\u001b[39m np\u001b[39m.\u001b[39mstack(\n\u001b[1;32m    645\u001b[0m         [\n\u001b[1;32m    646\u001b[0m             x\u001b[39m.\u001b[39mpixel_array \u001b[39m*\u001b[39m x\u001b[39m.\u001b[39mRescaleSlope \u001b[39m+\u001b[39m x\u001b[39m.\u001b[39mRescaleIntercept\n\u001b[0;32m   (...)\u001b[0m\n\u001b[1;32m    649\u001b[0m         axis\u001b[39m=\u001b[39m\u001b[39m-\u001b[39m\u001b[39m1\u001b[39m,\n\u001b[1;32m    650\u001b[0m     )\u001b[39m.\u001b[39mastype(np\u001b[39m.\u001b[39mint16)\n\u001b[1;32m    651\u001b[0m     \u001b[39mreturn\u001b[39;00m volume\n",
      "File \u001b[0;32m~/.local/lib/python3.8/site-packages/pylidc/Scan.py:288\u001b[0m, in \u001b[0;36mScan.load_all_dicom_images\u001b[0;34m(self, verbose)\u001b[0m\n\u001b[1;32m    261\u001b[0m \u001b[39m\"\"\"\u001b[39;00m\n\u001b[1;32m    262\u001b[0m \u001b[39mLoad all the DICOM images assocated with this scan and return as list.\u001b[39;00m\n\u001b[1;32m    263\u001b[0m \n\u001b[0;32m   (...)\u001b[0m\n\u001b[1;32m    284\u001b[0m \n\u001b[1;32m    285\u001b[0m \u001b[39m\"\"\"\u001b[39;00m\n\u001b[1;32m    286\u001b[0m \u001b[39mif\u001b[39;00m verbose: \u001b[39mprint\u001b[39m(\u001b[39m\"\u001b[39m\u001b[39mLoading dicom files ... This may take a moment.\u001b[39m\u001b[39m\"\u001b[39m)\n\u001b[0;32m--> 288\u001b[0m path \u001b[39m=\u001b[39m \u001b[39mself\u001b[39;49m\u001b[39m.\u001b[39;49mget_path_to_dicom_files()\n\u001b[1;32m    289\u001b[0m fnames \u001b[39m=\u001b[39m [fname \u001b[39mfor\u001b[39;00m fname \u001b[39min\u001b[39;00m os\u001b[39m.\u001b[39mlistdir(path)\n\u001b[1;32m    290\u001b[0m                     \u001b[39mif\u001b[39;00m fname\u001b[39m.\u001b[39mendswith(\u001b[39m'\u001b[39m\u001b[39m.dcm\u001b[39m\u001b[39m'\u001b[39m) \u001b[39mand\u001b[39;00m \u001b[39mnot\u001b[39;00m fname\u001b[39m.\u001b[39mstartswith(\u001b[39m\"\u001b[39m\u001b[39m.\u001b[39m\u001b[39m\"\u001b[39m)]\n\u001b[1;32m    291\u001b[0m images \u001b[39m=\u001b[39m []\n",
      "File \u001b[0;32m~/.local/lib/python3.8/site-packages/pylidc/Scan.py:215\u001b[0m, in \u001b[0;36mScan.get_path_to_dicom_files\u001b[0;34m(self)\u001b[0m\n\u001b[1;32m    211\u001b[0m \u001b[39mif\u001b[39;00m \u001b[39mnot\u001b[39;00m os\u001b[39m.\u001b[39mpath\u001b[39m.\u001b[39mexists(dicompath):\n\u001b[1;32m    212\u001b[0m     msg \u001b[39m=\u001b[39m (\u001b[39m\"\u001b[39m\u001b[39mCould not establish path to dicom files. Have you \u001b[39m\u001b[39m\"\u001b[39m\n\u001b[1;32m    213\u001b[0m            \u001b[39m\"\u001b[39m\u001b[39mspecified the `path` option in the configuration \u001b[39m\u001b[39m\"\u001b[39m\n\u001b[1;32m    214\u001b[0m            \u001b[39m\"\u001b[39m\u001b[39mfile \u001b[39m\u001b[39m{}\u001b[39;00m\u001b[39m?\u001b[39m\u001b[39m\"\u001b[39m)\n\u001b[0;32m--> 215\u001b[0m     \u001b[39mraise\u001b[39;00m \u001b[39mRuntimeError\u001b[39;00m(msg\u001b[39m.\u001b[39mformat(_get_config_file()))\n\u001b[1;32m    217\u001b[0m base \u001b[39m=\u001b[39m os\u001b[39m.\u001b[39mpath\u001b[39m.\u001b[39mjoin(dicompath, \u001b[39mself\u001b[39m\u001b[39m.\u001b[39mpatient_id)\n\u001b[1;32m    219\u001b[0m \u001b[39mif\u001b[39;00m \u001b[39mnot\u001b[39;00m os\u001b[39m.\u001b[39mpath\u001b[39m.\u001b[39mexists(base):\n",
      "\u001b[0;31mRuntimeError\u001b[0m: Could not establish path to dicom files. Have you specified the `path` option in the configuration file /home/aji/.pylidcrc?"
     ]
    }
   ],
   "source": [
    "vol = scan.to_volume()\n",
    "print(vol.shape)\n"
   ]
  },
  {
   "cell_type": "code",
   "execution_count": null,
   "metadata": {},
   "outputs": [],
   "source": []
  }
 ],
 "metadata": {
  "kernelspec": {
   "display_name": "Python 3",
   "language": "python",
   "name": "python3"
  },
  "language_info": {
   "codemirror_mode": {
    "name": "ipython",
    "version": 3
   },
   "file_extension": ".py",
   "mimetype": "text/x-python",
   "name": "python",
   "nbconvert_exporter": "python",
   "pygments_lexer": "ipython3",
   "version": "3.8.10"
  },
  "orig_nbformat": 4
 },
 "nbformat": 4,
 "nbformat_minor": 2
}
