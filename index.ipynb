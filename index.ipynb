{
 "cells": [
  {
   "cell_type": "code",
   "execution_count": 2,
   "metadata": {},
   "outputs": [
    {
     "name": "stdout",
     "output_type": "stream",
     "text": [
      "hello word\n"
     ]
    }
   ],
   "source": [
    "print(\"hello word\")"
   ]
  },
  {
   "cell_type": "code",
   "execution_count": 3,
   "metadata": {},
   "outputs": [
    {
     "name": "stdout",
     "output_type": "stream",
     "text": [
      "Collecting pylidc\n",
      "  Downloading pylidc-0.2.3-py2.py3-none-any.whl (5.6 MB)\n",
      "\u001b[K     |████████████████████████████████| 5.6 MB 2.7 MB/s eta 0:00:01\n",
      "\u001b[?25hCollecting pydicom>=1.0.0\n",
      "  Downloading pydicom-2.3.1-py3-none-any.whl (2.0 MB)\n",
      "\u001b[K     |████████████████████████████████| 2.0 MB 4.3 MB/s eta 0:00:01\n",
      "\u001b[?25hCollecting scikit-image>=0.13\n",
      "  Downloading scikit_image-0.20.0-cp38-cp38-manylinux_2_17_x86_64.manylinux2014_x86_64.whl (13.4 MB)\n",
      "\u001b[K     |████████████████████████████████| 13.4 MB 43 kB/s  eta 0:00:01\n",
      "\u001b[?25hRequirement already satisfied: sqlalchemy>=1.1.5 in /usr/lib/python3/dist-packages (from pylidc) (1.3.12)\n",
      "Requirement already satisfied: matplotlib>=2.0.0 in /home/aji/.local/lib/python3.8/site-packages (from pylidc) (3.5.2)\n",
      "Requirement already satisfied: numpy>=1.12.0 in /home/aji/.local/lib/python3.8/site-packages (from pylidc) (1.23.0)\n",
      "Requirement already satisfied: scipy>=0.18.1 in /home/aji/.local/lib/python3.8/site-packages (from pylidc) (1.8.1)\n",
      "Collecting PyWavelets>=1.1.1\n",
      "  Downloading PyWavelets-1.4.1-cp38-cp38-manylinux_2_17_x86_64.manylinux2014_x86_64.whl (6.9 MB)\n",
      "\u001b[K     |████████████████████████████████| 6.9 MB 4.1 MB/s eta 0:00:01\n",
      "\u001b[?25hCollecting networkx>=2.8\n",
      "  Downloading networkx-3.0-py3-none-any.whl (2.0 MB)\n",
      "\u001b[K     |████████████████████████████████| 2.0 MB 3.2 MB/s eta 0:00:01\n",
      "\u001b[?25hRequirement already satisfied: pillow>=9.0.1 in /home/aji/.local/lib/python3.8/site-packages (from scikit-image>=0.13->pylidc) (9.2.0)\n",
      "Collecting lazy_loader>=0.1\n",
      "  Downloading lazy_loader-0.2-py3-none-any.whl (8.6 kB)\n",
      "Collecting imageio>=2.4.1\n",
      "  Downloading imageio-2.27.0-py3-none-any.whl (3.4 MB)\n",
      "\u001b[K     |████████████████████████████████| 3.4 MB 272 kB/s eta 0:00:01\n",
      "\u001b[?25hCollecting tifffile>=2019.7.26\n",
      "  Downloading tifffile-2023.3.21-py3-none-any.whl (218 kB)\n",
      "\u001b[K     |████████████████████████████████| 218 kB 368 kB/s eta 0:00:01\n",
      "\u001b[?25hRequirement already satisfied: packaging>=20.0 in /home/aji/.local/lib/python3.8/site-packages (from scikit-image>=0.13->pylidc) (21.3)\n",
      "Requirement already satisfied: python-dateutil>=2.7 in /home/aji/.local/lib/python3.8/site-packages (from matplotlib>=2.0.0->pylidc) (2.8.2)\n",
      "Requirement already satisfied: fonttools>=4.22.0 in /home/aji/.local/lib/python3.8/site-packages (from matplotlib>=2.0.0->pylidc) (4.34.2)\n",
      "Requirement already satisfied: cycler>=0.10 in /home/aji/.local/lib/python3.8/site-packages (from matplotlib>=2.0.0->pylidc) (0.11.0)\n",
      "Requirement already satisfied: kiwisolver>=1.0.1 in /home/aji/.local/lib/python3.8/site-packages (from matplotlib>=2.0.0->pylidc) (1.4.3)\n",
      "Requirement already satisfied: pyparsing>=2.2.1 in /home/aji/.local/lib/python3.8/site-packages (from matplotlib>=2.0.0->pylidc) (3.0.9)\n",
      "Requirement already satisfied: six>=1.5 in /home/aji/.local/lib/python3.8/site-packages (from python-dateutil>=2.7->matplotlib>=2.0.0->pylidc) (1.16.0)\n",
      "Installing collected packages: pydicom, PyWavelets, networkx, lazy-loader, imageio, tifffile, scikit-image, pylidc\n",
      "Successfully installed PyWavelets-1.4.1 imageio-2.27.0 lazy-loader-0.2 networkx-3.0 pydicom-2.3.1 pylidc-0.2.3 scikit-image-0.20.0 tifffile-2023.3.21\n",
      "Note: you may need to restart the kernel to use updated packages.\n"
     ]
    }
   ],
   "source": [
    "pip install pylidc"
   ]
  }
 ],
 "metadata": {
  "kernelspec": {
   "display_name": "Python 3",
   "language": "python",
   "name": "python3"
  },
  "language_info": {
   "codemirror_mode": {
    "name": "ipython",
    "version": 3
   },
   "file_extension": ".py",
   "mimetype": "text/x-python",
   "name": "python",
   "nbconvert_exporter": "python",
   "pygments_lexer": "ipython3",
   "version": "3.8.10"
  },
  "orig_nbformat": 4
 },
 "nbformat": 4,
 "nbformat_minor": 2
}
